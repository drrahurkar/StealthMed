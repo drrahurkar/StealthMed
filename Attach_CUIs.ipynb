{
 "cells": [
  {
   "cell_type": "markdown",
   "id": "b16bef8f",
   "metadata": {},
   "source": [
    "\n",
    "# Attach UMLS CUIs with Auto‑Detected Drug Columns\n",
    "\n",
    "This notebook tags your **MarketScan** and **FAERS** raw drug lists with **UMLS CUIs** using your standardized maps.\n",
    "It will **auto‑detect** the drug string column in each raw file (so you don't have to remember exact header names).\n"
   ]
  },
  {
   "cell_type": "markdown",
   "id": "19cc0daa",
   "metadata": {},
   "source": [
    "\n",
    "## 1) Configure paths (edit if needed)\n",
    "The defaults use the absolute paths you provided. If you're running on another machine, change these.\n"
   ]
  },
  {
   "cell_type": "code",
   "execution_count": 10,
   "id": "77a230ee",
   "metadata": {},
   "outputs": [
    {
     "data": {
      "text/plain": [
       "(PosixPath('/Users/rahurkar.1/Library/CloudStorage/OneDrive-TheOhioStateUniversityWexnerMedicalCenter/FAERS/drug_id_platform/ms_druglist.csv'),\n",
       " PosixPath('/Users/rahurkar.1/Library/CloudStorage/OneDrive-TheOhioStateUniversityWexnerMedicalCenter/FAERS/drug_id_platform/faers_druglist.csv'),\n",
       " PosixPath('/Users/rahurkar.1/Library/CloudStorage/OneDrive-TheOhioStateUniversityWexnerMedicalCenter/FAERS/drug_id_platform/cross_quartz'))"
      ]
     },
     "execution_count": 10,
     "metadata": {},
     "output_type": "execute_result"
    }
   ],
   "source": [
    "\n",
    "from pathlib import Path\n",
    "\n",
    "# --- EDIT THESE IF YOUR PATHS DIFFER ---\n",
    "MS_RAW   = Path(\"/Users/rahurkar.1/Library/CloudStorage/OneDrive-TheOhioStateUniversityWexnerMedicalCenter/FAERS/drug_id_platform/ms_druglist.csv\")\n",
    "FAERS_RAW= Path(\"/Users/rahurkar.1/Library/CloudStorage/OneDrive-TheOhioStateUniversityWexnerMedicalCenter/FAERS/drug_id_platform/faers_druglist.csv\")\n",
    "\n",
    "MAP_DIR  = Path(\"/Users/rahurkar.1/Library/CloudStorage/OneDrive-TheOhioStateUniversityWexnerMedicalCenter/FAERS/drug_id_platform/cross_quartz\")\n",
    "MS_MAP_FN    = MAP_DIR / \"marketscan_standardized.csv\"\n",
    "FAERS_MAP_FN = MAP_DIR / \"faers_standardized.csv\"\n",
    "# Optional references\n",
    "FINAL_JOINED = MAP_DIR / \"final_joined.csv\"\n",
    "FUZZY_REVIEW = MAP_DIR / \"fuzzy_review_candidates.csv\"\n",
    "\n",
    "# Output directory — write outputs alongside the maps by default\n",
    "OUT_DIR = MAP_DIR\n",
    "\n",
    "MS_RAW, FAERS_RAW, OUT_DIR\n"
   ]
  },
  {
   "cell_type": "markdown",
   "id": "551ca477",
   "metadata": {},
   "source": [
    "\n",
    "## 2) Helpers\n",
    "- `normalize`: lower/strip/collapse whitespace  \n",
    "- `find_drug_column`: auto‑detect a likely drug string column from common names  \n",
    "- `attach_cui`: normalized left join from raw → standardized map\n"
   ]
  },
  {
   "cell_type": "code",
   "execution_count": 11,
   "id": "5038dbd4",
   "metadata": {},
   "outputs": [],
   "source": [
    "\n",
    "import pandas as pd\n",
    "\n",
    "def normalize(s: pd.Series) -> pd.Series:\n",
    "    return (\n",
    "        s.fillna(\"\")\n",
    "         .astype(str)\n",
    "         .str.lower()\n",
    "         .str.strip()\n",
    "         .str.replace(r\"\\s+\", \" \", regex=True)\n",
    "    )\n",
    "\n",
    "COMMON_DRUG_COL_CANDIDATES = [\n",
    "    # very common FAERS/MarketScan headers\n",
    "    \"fda_drug\", \"drug_ms\", \"drugname\", \"prod_ai\",\n",
    "    # generic fallbacks\n",
    "    \"drug\", \"drug_str\", \"drug_name\", \"gname\", \"name\",\n",
    "]\n",
    "\n",
    "def find_drug_column(df: pd.DataFrame, preferred: str | None = None) -> str:\n",
    "    \"\"\"Pick the best drug column present in df.\n",
    "    If 'preferred' provided and exists, use it; otherwise search a candidate list.\n",
    "    Raise ValueError if nothing reasonable found.\n",
    "    \"\"\"\n",
    "    cols = [c for c in df.columns]\n",
    "    if preferred and preferred in cols:\n",
    "        return preferred\n",
    "    for c in COMMON_DRUG_COL_CANDIDATES:\n",
    "        if c in cols:\n",
    "            return c\n",
    "    # soft heuristic: pick first object dtype column with 'drug' in name\n",
    "    for c in cols:\n",
    "        if \"drug\" in c.lower():\n",
    "            return c\n",
    "    raise ValueError(f\"No suitable drug column found. Available columns: {cols}\")\n",
    "\n",
    "def attach_cui(raw_df, map_df, raw_drug_col: str, map_drug_col: str = \"Drug\"):\n",
    "    # sanity checks\n",
    "    if map_drug_col not in map_df.columns:\n",
    "        raise ValueError(f\"Map file missing '{map_drug_col}'. Columns: {list(map_df.columns)}\")\n",
    "    left  = raw_df.copy()\n",
    "    right = map_df.copy()\n",
    "    left[\"_join_key\"]  = normalize(left[raw_drug_col])\n",
    "    right[\"_join_key\"] = normalize(right[map_drug_col])\n",
    "    # de-dup map on join key, prefer rows that have a CUI present\n",
    "    right = (right.sort_values(by=[\"UMLS_CUI\"], na_position=\"last\")\n",
    "                  .drop_duplicates(subset=[\"_join_key\"], keep=\"first\"))\n",
    "    merged = (left.merge(\n",
    "        right.drop(columns=[map_drug_col]),\n",
    "        on=\"_join_key\", how=\"left\", validate=\"m:1\")\n",
    "        .drop(columns=[\"_join_key\"]))\n",
    "    return merged\n",
    "\n",
    "def summarize_qc(df, cui_col=\"UMLS_CUI\"):\n",
    "    total = len(df)\n",
    "    matched = df[cui_col].notna().sum() if cui_col in df.columns else 0\n",
    "    return pd.DataFrame([{\n",
    "        \"rows\": total,\n",
    "        \"matched\": matched,\n",
    "        \"unmatched\": total - matched,\n",
    "        \"match_rate\": round(matched / total, 4) if total else 0.0\n",
    "    }])\n"
   ]
  },
  {
   "cell_type": "markdown",
   "id": "a95a2ab2",
   "metadata": {},
   "source": [
    "\n",
    "## 3) Load inputs & auto‑inspect columns\n",
    "This cell prints the columns of each raw file and the standardized maps, then chooses the drug column automatically.\n"
   ]
  },
  {
   "cell_type": "code",
   "execution_count": 12,
   "id": "58235b12",
   "metadata": {},
   "outputs": [
    {
     "name": "stdout",
     "output_type": "stream",
     "text": [
      "MarketScan raw columns: ['drug_ms']\n",
      "FAERS raw columns     : ['fda_drug']\n",
      "MS map columns        : ['Drug', 'clean_drug', 'base_drug', 'UMLS_CUI', 'Preferred_Term', 'Preferred_TTY']\n",
      "FAERS map columns     : ['Drug', 'clean_drug', 'base_drug', 'UMLS_CUI', 'Preferred_Term', 'Preferred_TTY']\n"
     ]
    },
    {
     "data": {
      "text/plain": [
       "('drug_ms', 'fda_drug')"
      ]
     },
     "execution_count": 12,
     "metadata": {},
     "output_type": "execute_result"
    }
   ],
   "source": [
    "\n",
    "# Load\n",
    "ms_raw    = pd.read_csv(MS_RAW, dtype=str, low_memory=False)\n",
    "faers_raw = pd.read_csv(FAERS_RAW, dtype=str, low_memory=False)\n",
    "ms_map    = pd.read_csv(MS_MAP_FN, dtype=str, low_memory=False)\n",
    "faers_map = pd.read_csv(FAERS_MAP_FN, dtype=str, low_memory=False)\n",
    "\n",
    "print(\"MarketScan raw columns:\", list(ms_raw.columns))\n",
    "print(\"FAERS raw columns     :\", list(faers_raw.columns))\n",
    "print(\"MS map columns        :\", list(ms_map.columns))\n",
    "print(\"FAERS map columns     :\", list(faers_map.columns))\n",
    "\n",
    "# Auto-detect raw drug columns\n",
    "ms_drug_col    = find_drug_column(ms_raw, preferred=None)   # if you know it, pass preferred=\"drug_ms\"\n",
    "faers_drug_col = find_drug_column(faers_raw, preferred=None)\n",
    "\n",
    "ms_drug_col, faers_drug_col\n"
   ]
  },
  {
   "cell_type": "markdown",
   "id": "cb81eec3",
   "metadata": {},
   "source": [
    "\n",
    "## 4) Attach CUIs\n",
    "Performs normalized string left‑joins from the raw lists onto their corresponding maps.\n"
   ]
  },
  {
   "cell_type": "code",
   "execution_count": 13,
   "id": "ec41e964",
   "metadata": {},
   "outputs": [
    {
     "data": {
      "text/plain": [
       "(                                        drug_ms  \\\n",
       " 0       1,1,1,3,3-Pentafluoropropane/Norflurane   \n",
       " 1              5-Methyltetrahydrofolate Calcium   \n",
       " 2                  5-Methyltetrahydrofolic Acid   \n",
       " 3  5-Methyltetrahydrofolic Acid/Glucosamine HCl   \n",
       " 4                              Abacavir Sulfate   \n",
       " 5                   Abacavir Sulfate/Lamivudine   \n",
       " 6        Abacavir Sulfate/Lamivudine/Zidovudine   \n",
       " 7              Abacavir/Dolutegravir/Lamivudine   \n",
       " 8                                     Abatacept   \n",
       " 9                                   Abemaciclib   \n",
       " \n",
       "                                      clean_drug  \\\n",
       " 0       1 1 1 3 3-pentafluoropropane/norflurane   \n",
       " 1              5-methyltetrahydrofolate calcium   \n",
       " 2                  5-methyltetrahydrofolic acid   \n",
       " 3  5-methyltetrahydrofolic acid/glucosamine hcl   \n",
       " 4                              abacavir sulfate   \n",
       " 5                   abacavir sulfate/lamivudine   \n",
       " 6        abacavir sulfate/lamivudine/zidovudine   \n",
       " 7              abacavir/dolutegravir/lamivudine   \n",
       " 8                                     abatacept   \n",
       " 9                                   abemaciclib   \n",
       " \n",
       "                                   base_drug  UMLS_CUI  \\\n",
       " 0   1 1 1 3 3-pentafluoropropane/norflurane       NaN   \n",
       " 1                  5-methyltetrahydrofolate       NaN   \n",
       " 2              5-methyltetrahydrofolic acid  C3498054   \n",
       " 3  5-methyltetrahydrofolic acid/glucosamine  C3498054   \n",
       " 4                                  abacavir  C0724515   \n",
       " 5               abacavir sulfate/lamivudine  C0663655   \n",
       " 6    abacavir sulfate/lamivudine/zidovudine  C0663655   \n",
       " 7          abacavir/dolutegravir/lamivudine  C0663655   \n",
       " 8                                 abatacept  C1619966   \n",
       " 9                               abemaciclib  C3852841   \n",
       " \n",
       "                  Preferred_Term Preferred_TTY  \n",
       " 0                           NaN           NaN  \n",
       " 1                           NaN           NaN  \n",
       " 2  5-methyltetrahydrofolic acid            IN  \n",
       " 3  5-methyltetrahydrofolic acid            IN  \n",
       " 4              abacavir sulfate           PIN  \n",
       " 5                      abacavir            IN  \n",
       " 6                      abacavir            IN  \n",
       " 7                      abacavir            IN  \n",
       " 8                     abatacept            IN  \n",
       " 9                   abemaciclib            IN  ,\n",
       "                                           fda_drug  \\\n",
       " 0                              vincristine sulfate   \n",
       " 1                                       cytarabine   \n",
       " 2                          alphatocopherol acetate   \n",
       " 3                        alphatocopherol acetate d   \n",
       " 4                delta8tetrahydrocannabinolherbals   \n",
       " 5  02 fluconazole and 09 sodium chloride injection   \n",
       " 6                     09 sodium chloride injection   \n",
       " 7                            10 dextrose injection   \n",
       " 8                  10 dextrose injection usp 500ml   \n",
       " 9                        10 dextrose injection usp   \n",
       " \n",
       "                               clean_drug                          base_drug  \\\n",
       " 0                    vincristine sulfate                        vincristine   \n",
       " 1                             cytarabine                         cytarabine   \n",
       " 2                alphatocopherol acetate                    alphatocopherol   \n",
       " 3              alphatocopherol acetate d                  alphatocopherol d   \n",
       " 4      delta8tetrahydrocannabinolherbals  delta8tetrahydrocannabinolherbals   \n",
       " 5  02 fluconazole and 09 sodium chloride     02 fluconazole and 09 chloride   \n",
       " 6                     09 sodium chloride                        09 chloride   \n",
       " 7                            10 dextrose                        10 dextrose   \n",
       " 8                  10 dextrose usp 500ml              10 dextrose usp 500ml   \n",
       " 9                        10 dextrose usp                    10 dextrose usp   \n",
       " \n",
       "    UMLS_CUI            Preferred_Term Preferred_TTY  \n",
       " 0  C0042680       vincristine sulfate           PIN  \n",
       " 1  C0010711                cytarabine            IN  \n",
       " 2  C1999896  alpha-tocopherol acetate           PIN  \n",
       " 3  C1999896  alpha-tocopherol acetate           PIN  \n",
       " 4       NaN                       NaN           NaN  \n",
       " 5       NaN                       NaN           NaN  \n",
       " 6       NaN                       NaN           NaN  \n",
       " 7       NaN                       NaN           NaN  \n",
       " 8       NaN                       NaN           NaN  \n",
       " 9       NaN                       NaN           NaN  )"
      ]
     },
     "execution_count": 13,
     "metadata": {},
     "output_type": "execute_result"
    }
   ],
   "source": [
    "\n",
    "# Attach\n",
    "ms_with    = attach_cui(ms_raw,    ms_map,    raw_drug_col=ms_drug_col,    map_drug_col=\"Drug\")\n",
    "faers_with = attach_cui(faers_raw, faers_map, raw_drug_col=faers_drug_col, map_drug_col=\"Drug\")\n",
    "\n",
    "ms_with.head(10), faers_with.head(10)\n"
   ]
  },
  {
   "cell_type": "markdown",
   "id": "34173384",
   "metadata": {},
   "source": [
    "\n",
    "## 5) Write outputs & QC\n",
    "- `ms_with_cui.csv` / `faers_with_cui.csv`  \n",
    "- `unmatched_ms.csv` / `unmatched_faers.csv`  \n",
    "- `qc_attach_summary.csv`\n"
   ]
  },
  {
   "cell_type": "code",
   "execution_count": 14,
   "id": "2eb555a8",
   "metadata": {},
   "outputs": [
    {
     "data": {
      "text/plain": [
       "(       source   rows  matched  unmatched  match_rate\n",
       " 0  MarketScan   2584     2145        439      0.8301\n",
       " 1       FAERS  21816    13870       7946      0.6358,\n",
       " PosixPath('/Users/rahurkar.1/Library/CloudStorage/OneDrive-TheOhioStateUniversityWexnerMedicalCenter/FAERS/drug_id_platform/cross_quartz/ms_with_cui.csv'),\n",
       " PosixPath('/Users/rahurkar.1/Library/CloudStorage/OneDrive-TheOhioStateUniversityWexnerMedicalCenter/FAERS/drug_id_platform/cross_quartz/faers_with_cui.csv'),\n",
       " PosixPath('/Users/rahurkar.1/Library/CloudStorage/OneDrive-TheOhioStateUniversityWexnerMedicalCenter/FAERS/drug_id_platform/cross_quartz/qc_attach_summary.csv'),\n",
       " PosixPath('/Users/rahurkar.1/Library/CloudStorage/OneDrive-TheOhioStateUniversityWexnerMedicalCenter/FAERS/drug_id_platform/cross_quartz/unmatched_ms.csv'),\n",
       " PosixPath('/Users/rahurkar.1/Library/CloudStorage/OneDrive-TheOhioStateUniversityWexnerMedicalCenter/FAERS/drug_id_platform/cross_quartz/unmatched_faers.csv'))"
      ]
     },
     "execution_count": 14,
     "metadata": {},
     "output_type": "execute_result"
    }
   ],
   "source": [
    "\n",
    "OUT_DIR.mkdir(parents=True, exist_ok=True)\n",
    "\n",
    "ms_out_fn    = OUT_DIR / \"ms_with_cui.csv\"\n",
    "faers_out_fn = OUT_DIR / \"faers_with_cui.csv\"\n",
    "\n",
    "ms_with.to_csv(ms_out_fn, index=False)\n",
    "faers_with.to_csv(faers_out_fn, index=False)\n",
    "\n",
    "# QC + unmatched\n",
    "qc_ms = summarize_qc(ms_with).assign(source=\"MarketScan\")\n",
    "qc_fa = summarize_qc(faers_with).assign(source=\"FAERS\")\n",
    "qc = pd.concat([qc_ms, qc_fa], ignore_index=True)[[\"source\",\"rows\",\"matched\",\"unmatched\",\"match_rate\"]]\n",
    "\n",
    "qc_fn   = OUT_DIR / \"qc_attach_summary.csv\"\n",
    "um_ms   = OUT_DIR / \"unmatched_ms.csv\"\n",
    "um_fa   = OUT_DIR / \"unmatched_faers.csv\"\n",
    "\n",
    "qc.to_csv(qc_fn, index=False)\n",
    "ms_with[ms_with.get(\"UMLS_CUI\").isna()].to_csv(um_ms, index=False)\n",
    "faers_with[faers_with.get(\"UMLS_CUI\").isna()].to_csv(um_fa, index=False)\n",
    "\n",
    "qc, ms_out_fn, faers_out_fn, qc_fn, um_ms, um_fa\n"
   ]
  }
 ],
 "metadata": {
  "kernelspec": {
   "display_name": "Python 3 (ipykernel)",
   "language": "python",
   "name": "python3"
  },
  "language_info": {
   "codemirror_mode": {
    "name": "ipython",
    "version": 3
   },
   "file_extension": ".py",
   "mimetype": "text/x-python",
   "name": "python",
   "nbconvert_exporter": "python",
   "pygments_lexer": "ipython3",
   "version": "3.12.4"
  }
 },
 "nbformat": 4,
 "nbformat_minor": 5
}
